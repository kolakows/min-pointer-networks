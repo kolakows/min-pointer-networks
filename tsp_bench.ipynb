{
 "cells": [
  {
   "cell_type": "code",
   "execution_count": null,
   "metadata": {},
   "outputs": [],
   "source": [
    "# helper functions\n",
    "\n",
    "def load(path):\n",
    "    with open(path, \"r\") as f:\n",
    "        data = f.readlines()\n",
    "    ds = []\n",
    "    for line in data:\n",
    "        x, y = line.split(\"output\")\n",
    "        x, y = x.strip(), y.strip()\n",
    "        x = [float(num) for num in x.split()]\n",
    "        y = [int(num) for num in y.split()]\n",
    "        points = [(x[i], x[i+1]) for i in range(0, len(x), 2)]\n",
    "        ds.append((points, y))\n",
    "    return ds\n",
    "\n",
    "def tsp_length(points, path):\n",
    "    # Get points in path order\n",
    "    path_points = points[path]\n",
    "\n",
    "    # wrap path around    \n",
    "    next_points = torch.roll(path_points, -1, dims=0)\n",
    "    \n",
    "    # Euclidean distance\n",
    "    distances = torch.sqrt(torch.sum((path_points - next_points)**2, dim = 1))\n",
    "    \n",
    "    return torch.sum(distances)\n",
    "\n",
    "def mean_tsp_length(x, y):\n",
    "    bs = x.shape[0]\n",
    "    distances = []\n",
    "    for i in range(bs):\n",
    "        points, path = x[i, :], y[i]\n",
    "        distances.append(tsp_length(points, path))\n",
    "    return sum(distances)/len(distances)"
   ]
  },
  {
   "cell_type": "code",
   "execution_count": null,
   "metadata": {},
   "outputs": [],
   "source": [
    "# Dataset and collate_fn\n",
    "import torch\n",
    "from torch.utils.data import Dataset, DataLoader\n",
    "\n",
    "class TspDataset(Dataset):\n",
    "    def __init__(self, data):\n",
    "        super().__init__()\n",
    "        self.data = data\n",
    "\n",
    "    def __getitem__(self, index):\n",
    "        return self.data[index]\n",
    "    \n",
    "    def __len__(self):\n",
    "        return len(self.data)\n",
    "    \n",
    "def collate_fn(batch):\n",
    "    inputs, targets = zip(*batch)\n",
    "    inputs = torch.tensor(inputs)\n",
    "    targets = [y[:-1] for y in targets] # answer loops back to start\n",
    "    targets = torch.tensor(targets) - 1 # indexing points from 1\n",
    "\n",
    "    return inputs, targets\n"
   ]
  },
  {
   "cell_type": "code",
   "execution_count": null,
   "metadata": {},
   "outputs": [],
   "source": [
    "# simple trainer\n",
    "import torch.optim as optim\n",
    "import matplotlib.pyplot as plt\n",
    "\n",
    "class SimpleTrainer:\n",
    "    def __init__(self, model, device='cuda'):\n",
    "        self.model = model.to(device)\n",
    "        self.device = device\n",
    "        self.losses = []  # Store (step, loss) tuples\n",
    "        self.pred_lengths = []  # Store (step, pred_length) tuples\n",
    "        self.gt_lengths = []  # Store (step, gt_length) tuples\n",
    "    \n",
    "    def train(self, train_loader, num_steps=5000, lr=1e-3, log_interval=100):\n",
    "        \"\"\"Simple training loop with basic loss logging\"\"\"\n",
    "        optimizer = optim.AdamW(self.model.parameters(), lr=lr)\n",
    "        self.model.train()\n",
    "        \n",
    "        train_iter = iter(train_loader)\n",
    "        \n",
    "        print(f\"Starting training for {num_steps} steps...\")\n",
    "        \n",
    "        for step in range(num_steps):\n",
    "            # Get batch\n",
    "            try:\n",
    "                X, y = next(train_iter)\n",
    "            except StopIteration:\n",
    "                train_iter = iter(train_loader)\n",
    "                X, y = next(train_iter)\n",
    "            \n",
    "            X, y = X.to(self.device), y.to(self.device)\n",
    "            \n",
    "            # Training step\n",
    "            optimizer.zero_grad()\n",
    "            indices, all_logits, loss = self.model(X, y)\n",
    "            loss.backward()\n",
    "\n",
    "            # Gradient clipping\n",
    "            torch.nn.utils.clip_grad_norm_(self.model.parameters(), max_norm=1.0)\n",
    "\n",
    "            optimizer.step()\n",
    "            \n",
    "            # Calculate TSP lengths\n",
    "            pred_length = mean_tsp_length(X, indices)\n",
    "            gt_length = mean_tsp_length(X, y)\n",
    "            \n",
    "            # Normalize by problem size (number of cities)\n",
    "            problem_size = X.shape[1]  # Assuming X has shape [batch_size, num_cities, 2]\n",
    "            pred_length_normalized = pred_length / problem_size\n",
    "            gt_length_normalized = gt_length / problem_size\n",
    "            \n",
    "            # Store metrics\n",
    "            self.losses.append((step, loss.item()))\n",
    "\n",
    "            # Print progress\n",
    "            if step % log_interval == 0:\n",
    "                print(f\"Step {step:4d} | Loss: {loss.item():.4f}\")\n",
    "                print(f\"Step {step:4d} | TSP mean pred len/city: {pred_length_normalized:.4f}\")\n",
    "                print(f\"Step {step:4d} | TSP mean gt   len/city: {gt_length_normalized:.4f}\")\n",
    "\n",
    "        \n",
    "        print(\"Training completed!\")\n",
    "    \n",
    "    def plot_loss(self):\n",
    "        \"\"\"Plot training loss\"\"\"\n",
    "        if not self.losses:\n",
    "            print(\"No losses to plot!\")\n",
    "            return\n",
    "            \n",
    "        steps, losses = zip(*self.losses)\n",
    "        plt.figure(figsize=(10, 6))\n",
    "        plt.plot(steps, losses)\n",
    "        plt.title('Training Loss')\n",
    "        plt.xlabel('Step')\n",
    "        plt.ylabel('Loss')\n",
    "        plt.grid(True)\n",
    "        plt.show()"
   ]
  },
  {
   "cell_type": "code",
   "execution_count": null,
   "metadata": {},
   "outputs": [],
   "source": [
    "train_path = \"tsp_data/tsp_5_train/tsp5.txt\"\n",
    "test_path = \"tsp_data/tsp_5_train/tsp5_test.txt\"\n",
    "\n",
    "train, test = load(train_path), load(test_path)\n",
    "\n",
    "train_ds = TspDataset(train)\n",
    "train_dl = DataLoader(train_ds, batch_size=32, collate_fn=collate_fn)\n",
    "\n",
    "test_ds = TspDataset(test)\n",
    "test_dl = DataLoader(test_ds, batch_size=32, collate_fn=collate_fn)"
   ]
  },
  {
   "cell_type": "code",
   "execution_count": null,
   "metadata": {},
   "outputs": [],
   "source": [
    "from ptr_net import PtrNet\n",
    "\n",
    "model = PtrNet(input_size = 2, hidden_size = 128, start_token_value=(-1.0, -1.0))\n",
    "trainer = SimpleTrainer(model)\n",
    "trainer.train(train_dl, num_steps=100_000)"
   ]
  },
  {
   "cell_type": "code",
   "execution_count": 5,
   "metadata": {},
   "outputs": [],
   "source": [
    "import torch\n",
    "\n",
    "@torch.no_grad()\n",
    "def test(model, test_loader):\n",
    "    model.eval()\n",
    "    device = next(model.parameters()).device\n",
    "    \n",
    "    gt_distances = []\n",
    "    pred_distances = []\n",
    "    for batch in test_loader:\n",
    "        X, y = batch\n",
    "        X, y = X.to(device), y.to(device)\n",
    "        indices, _ = model(X)\n",
    "        pred_distances.append(mean_tsp_length(X, indices))\n",
    "        gt_distances.append(mean_tsp_length(X, y))\n",
    "    \n",
    "    print(f\"Mean gt distance {sum(gt_distances)/len(gt_distances)}\")\n",
    "    print(f\"Mean pred distance {sum(pred_distances)/len(pred_distances)}\")\n"
   ]
  },
  {
   "cell_type": "code",
   "execution_count": null,
   "metadata": {},
   "outputs": [
    {
     "name": "stdout",
     "output_type": "stream",
     "text": [
      "Mean gt distance 2.1227197647094727\n",
      "Mean pred distance 2.1257359981536865\n"
     ]
    }
   ],
   "source": [
    "test(model, test_dl)"
   ]
  },
  {
   "cell_type": "code",
   "execution_count": null,
   "metadata": {},
   "outputs": [],
   "source": [
    "trainer.plot_loss()"
   ]
  },
  {
   "cell_type": "code",
   "execution_count": null,
   "metadata": {},
   "outputs": [],
   "source": [
    "import os\n",
    "import random\n",
    "from torch.utils.data import IterableDataset\n",
    "\n",
    "class TspMultiDataset(IterableDataset):\n",
    "    def __init__(self, batch_size):\n",
    "        super().__init__()\n",
    "        data_dir = \"tsp_data/tsp_5-20_train/\"\n",
    "        paths = [f\"{data_dir}/{file}\" for file in os.listdir(data_dir)]\n",
    "        self.datasets = [load(p) for p in paths]\n",
    "        self.batch_size = batch_size\n",
    "\n",
    "    def __iter__(self):\n",
    "        while True:\n",
    "            idx_ds = random.randint(0, len(self.datasets)-1)\n",
    "            idx = random.randint(0, len(self.datasets[idx_ds])-1-self.batch_size)\n",
    "            yield self.datasets[idx_ds][idx:idx+self.batch_size]\n",
    "\n",
    "def collate_batch_fn(batch):\n",
    "    inputs, targets = zip(*batch[0])\n",
    "    inputs = torch.tensor(inputs)\n",
    "    targets = [y[:-1] for y in targets] # answer loops back to start\n",
    "    targets = torch.tensor(targets) - 1 # indexing points from 1\n",
    "\n",
    "    return inputs, targets"
   ]
  },
  {
   "cell_type": "code",
   "execution_count": 16,
   "metadata": {},
   "outputs": [],
   "source": [
    "import ptr_net\n",
    "from importlib import reload\n",
    "reload(ptr_net)\n",
    "from ptr_net import PtrNet\n",
    "\n",
    "\n",
    "model = PtrNet(input_size = 2, hidden_size = 256, start_token_value=(-1.0, -1.0))\n",
    "\n",
    "multi_ds = TspMultiDataset(batch_size=128)"
   ]
  },
  {
   "cell_type": "code",
   "execution_count": null,
   "metadata": {},
   "outputs": [],
   "source": [
    "from torch.utils.data import DataLoader\n",
    "\n",
    "multi_train_dl = DataLoader(multi_ds, batch_size=1, collate_fn=collate_batch_fn)\n",
    "trainer = SimpleTrainer(model)\n",
    "trainer.train(multi_train_dl, num_steps=1_000_000, log_interval=1_000)"
   ]
  },
  {
   "cell_type": "code",
   "execution_count": null,
   "metadata": {},
   "outputs": [],
   "source": [
    "trainer.plot_loss()"
   ]
  },
  {
   "cell_type": "code",
   "execution_count": 11,
   "metadata": {},
   "outputs": [],
   "source": [
    "torch.save(model.state_dict(), \"627k_ptrnet_5-20_tsp.pth\")"
   ]
  },
  {
   "cell_type": "code",
   "execution_count": 7,
   "metadata": {},
   "outputs": [
    {
     "data": {
      "text/plain": [
       "<All keys matched successfully>"
      ]
     },
     "execution_count": 7,
     "metadata": {},
     "output_type": "execute_result"
    }
   ],
   "source": [
    "# test\n",
    "import torch\n",
    "from ptr_net import PtrNet\n",
    "\n",
    "\n",
    "model = PtrNet(input_size = 2, hidden_size = 256, start_token_value=(-1.0, -1.0))\n",
    "state_dict = torch.load(\"627k_ptrnet_5-20_tsp.pth\")\n",
    "model.load_state_dict(state_dict)"
   ]
  },
  {
   "cell_type": "code",
   "execution_count": 10,
   "metadata": {},
   "outputs": [
    {
     "name": "stdout",
     "output_type": "stream",
     "text": [
      "Mean gt distance 4.242640495300293\n",
      "Mean pred distance 4.282567977905273\n"
     ]
    }
   ],
   "source": [
    "test_20 = TspDataset(load(\"tsp_data/tsp_20_test.txt\"))\n",
    "test_20_dl = DataLoader(test_20, batch_size=32, collate_fn=collate_fn)\n",
    "test(model, test_20_dl)"
   ]
  },
  {
   "cell_type": "code",
   "execution_count": 10,
   "metadata": {},
   "outputs": [
    {
     "name": "stdout",
     "output_type": "stream",
     "text": [
      "Mean gt distance 5.821553707122803\n",
      "Mean pred distance 8.100526809692383\n"
     ]
    }
   ],
   "source": [
    "test_40 = TspDataset(load(\"tsp_data/tsp_40_test.txt\"))\n",
    "test_40_dl = DataLoader(test_40, batch_size=32, collate_fn=collate_fn)\n",
    "test(model, test_40_dl)"
   ]
  },
  {
   "cell_type": "code",
   "execution_count": 11,
   "metadata": {},
   "outputs": [
    {
     "name": "stdout",
     "output_type": "stream",
     "text": [
      "Mean gt distance 6.434800624847412\n",
      "Mean pred distance 10.240120887756348\n"
     ]
    }
   ],
   "source": [
    "test_50 = TspDataset(load(\"tsp_data/tsp50_test.txt\"))\n",
    "test_50_dl = DataLoader(test_50, batch_size=32, collate_fn=collate_fn)\n",
    "test(model, test_50_dl)"
   ]
  }
 ],
 "metadata": {
  "kernelspec": {
   "display_name": "ml",
   "language": "python",
   "name": "python3"
  },
  "language_info": {
   "codemirror_mode": {
    "name": "ipython",
    "version": 3
   },
   "file_extension": ".py",
   "mimetype": "text/x-python",
   "name": "python",
   "nbconvert_exporter": "python",
   "pygments_lexer": "ipython3",
   "version": "3.11.7"
  }
 },
 "nbformat": 4,
 "nbformat_minor": 2
}
